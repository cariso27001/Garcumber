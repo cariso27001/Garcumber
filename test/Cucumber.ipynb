{
 "cells": [
  {
   "cell_type": "code",
   "execution_count": null,
   "metadata": {},
   "outputs": [],
   "source": [
    "using Pkg\n",
    "Pkg.activate(\"..\")\n",
    "Pkg.instantiate()\n",
    "Pkg.update()\n",
    "# Pkg.upgrade_manifest()"
   ]
  },
  {
   "cell_type": "code",
   "execution_count": null,
   "metadata": {},
   "outputs": [],
   "source": [
    "# using Cropbox\n",
    "using Test\n",
    "# using Plots\n",
    "using TimeZones\n",
    "using DataFramesMeta\n",
    "using CSV\n",
    "# Cropbox.Interact.WebIO.setup(:ijulia)"
   ]
  },
  {
   "cell_type": "code",
   "execution_count": null,
   "metadata": {},
   "outputs": [],
   "source": [
    "include(\"../src/Garlic.jl\")\n",
    "\n",
    "import Dates\n",
    "\n",
    "obs_veget = CSV.read(\"$(@__DIR__)/../data/Phenology_Vegetative_2nd.csv\", DataFrame);\n",
    "obs_repro = CSV.read(\"$(@__DIR__)/../data/Phenology_Reproductive_2nd.csv\", DataFrame);"
   ]
  },
  {
   "cell_type": "code",
   "execution_count": null,
   "metadata": {},
   "outputs": [],
   "source": [
    "# Cropbox.hierarchy(Garlic.Context)"
   ]
  },
  {
   "cell_type": "code",
   "execution_count": null,
   "metadata": {},
   "outputs": [],
   "source": [
    "tz = tz\"Asia/Seoul\"\n",
    "\n",
    "Cucumber = @config (\n",
    "    :Phenology => (\n",
    "        optimal_temperature = 25, # Topt\n",
    "        ceiling_temperature = 30, # Tceil\n",
    "        critical_photoperiod = 12, # critPPD\n",
    "        # initial_leaves_at_harvest = 5, # ILN\n",
    "        maximum_leaf_initiation_rate = 1.70878, # LIR\n",
    "        maximum_emergence_rate = 0.2,\n",
    "        # maximum_leaf_initiation_rate = 0.1003, # LIR\n",
    "        maximum_phyllochron_asymptote = 1.75561, # LTARa\n",
    "        leaves_generic = 50, # GLN\n",
    "    ),\n",
    "    :Leaf => (\n",
    "        maximum_elongation_rate = 4.70, # LER\n",
    "        minimum_length_of_longest_leaf = 25.0, # LL\n",
    "        # stay_green = 1.84, # SG\n",
    "        stay_green = 20,\n",
    "        length_to_width_ratio = 1,\n",
    "        leaf_detaching_rate = 23, #LDR\n",
    "    ),\n",
    "    :Carbon => (\n",
    "        maintenance_respiration_coefficient = 0.012, # Rm\n",
    "        synthesis_efficiency = 0.8, # Yg\n",
    "    ),\n",
    "    :Meta => (; cultivar = :Cucumber),\n",
    "    :Plant => (initial_planting_density = 55,),\n",
    ");"
   ]
  },
  {
   "cell_type": "code",
   "execution_count": null,
   "metadata": {},
   "outputs": [],
   "source": [
    "Calibrate = @config(Cucumber, (\n",
    "    :Phenology => (\n",
    "        planting_date = ZonedDateTime(2020, 10, 22, tz\"Asia/Seoul\"),\n",
    "        emergence_date = ZonedDateTime(2020, 10, 23, tz\"Asia/Seoul\"),\n",
    "        first_flowering_date = ZonedDateTime(2020, 11, 19, tz\"Asia/Seoul\"),\n",
    "    ),\n",
    "    :Meta => (\n",
    "        planting_group = 1,\n",
    "        year = 2020,\n",
    "    ),\n",
    "    :Calendar => (\n",
    "        init = ZonedDateTime(2020, 10, 22, tz\"Asia/Seoul\"),\n",
    "        last = ZonedDateTime(2021, 2, 15, tz\"Asia/Seoul\"),\n",
    "    ),\n",
    "    :Weather => (\n",
    "        CO2 = 500, # CO2 Enrichment\n",
    "        store = Garlic.loadwea(\"$(@__DIR__)/../data/Cucumber1st.wea\", tz\"Asia/Seoul\"),\n",
    "    ),\n",
    "));\n"
   ]
  },
  {
   "cell_type": "code",
   "execution_count": null,
   "metadata": {},
   "outputs": [],
   "source": [
    "Validate = @config(Cucumber, (\n",
    "    :Phenology => (\n",
    "        planting_date = ZonedDateTime(2021, 2, 1, tz\"Asia/Seoul\"), # Y1 sow\n",
    "        emergence_date = ZonedDateTime(2021, 2, 23, tz\"Asia/Seoul\"), # Y1 emg\n",
    "        first_flowering_date = ZonedDateTime(2021, 3, 24, tz\"Asia/Seoul\"),\n",
    "    ),\n",
    "    :Meta => (\n",
    "        planting_group = 2,\n",
    "        year = 2021,\n",
    "    ),\n",
    "    :Calendar => (\n",
    "        init = ZonedDateTime(2021, 2, 1, tz\"Asia/Seoul\"),\n",
    "        last = ZonedDateTime(2021, 8, 29, tz\"Asia/Seoul\"),\n",
    "    ),\n",
    "    :Weather => (\n",
    "        CO2 = 500, # CO2 Enrichment\n",
    "        store = Garlic.loadwea(\"$(@__DIR__)/../data/Cucumber2nd.wea\", tz\"Asia/Seoul\"),\n",
    "    ),\n",
    "));"
   ]
  },
  {
   "cell_type": "code",
   "execution_count": null,
   "metadata": {},
   "outputs": [],
   "source": [
    "# obs_veget_unit = obs_veget |> unitfy\n",
    "# obs_repro_unit = obs_repro |> unitfy\n",
    "\n",
    "# f(s) = s.DAP' in obs_repro_unit.DAP && Dates.hour(s.calendar.time') == 12\n",
    "\n",
    "# calibrate(Garlic.Model, obs_repro_unit;\n",
    "#     config=Cucumber,\n",
    "#     stop=\"calendar.count\",\n",
    "#     index=:DAP,\n",
    "#     target=:flowers_appeared => :flowers_appeared,\n",
    "#     parameters= :Phenology => (;\n",
    "#         FAR_max = (0.4, 1.8),\n",
    "#         FIR_max = (0.4, 1.8),\n",
    "#     ),\n",
    "#     snap=f,\n",
    "#     optim=(:MaxSteps => 20,),\n",
    "# )"
   ]
  },
  {
   "cell_type": "code",
   "execution_count": null,
   "metadata": {},
   "outputs": [],
   "source": [
    "# obs_veget_unit = obs_veget |> unitfy\n",
    "# obs_repro_unit = obs_repro |> unitfy\n",
    "\n",
    "# f(s) = s.DAP' in obs_repro_unit.DAP && Dates.hour(s.calendar.time') == 12\n",
    "\n",
    "# calibrate(Garlic.Model, obs_repro_unit;\n",
    "#     config=Cucumber,\n",
    "#     stop=\"calendar.count\",\n",
    "#     index=:DAP,\n",
    "#     target=:fruits_appeared => :fruits_appeared,\n",
    "#     parameters= :Phenology => (;\n",
    "#         FRIR_max = (0.4, 1.8),\n",
    "#         FRAR_max = (0.4, 1.8),\n",
    "#     ),\n",
    "#     snap=f,\n",
    "#     optim=(:MaxSteps => 20,),\n",
    "# )"
   ]
  },
  {
   "cell_type": "code",
   "execution_count": null,
   "metadata": {},
   "outputs": [],
   "source": [
    "# obs_veget_unit = obs_veget |> unitfy\n",
    "# obs_repro_unit = obs_repro |> unitfy\n",
    "\n",
    "# f(s) = s.DAP' in obs_veget_unit.DAP && Dates.hour(s.calendar.time') == 12\n",
    "\n",
    "# calibrate(Garlic.Model, obs_veget_unit;\n",
    "#     config=Cucumber,\n",
    "#     stop=\"calendar.count\",\n",
    "#     index=:DAP,\n",
    "#     target=:internode_count => :leaves_appeared,\n",
    "#     parameters= :Phenology => (;\n",
    "#         LTARa_max = (0.4, 1.8),\n",
    "#         LIR_max = (0.4, 1.8),\n",
    "#     ),\n",
    "#     snap=f,\n",
    "#     optim=(:MaxSteps => 50,),\n",
    "# )"
   ]
  },
  {
   "cell_type": "code",
   "execution_count": null,
   "metadata": {},
   "outputs": [],
   "source": [
    "obs_veget_unit = obs_veget |> unitfy\n",
    "obs_repro_unit = obs_repro |> unitfy\n",
    "\n",
    "r = simulate(Garlic.Model;\n",
    "    config=Validate,\n",
    "    stop=\"calendar.count\",\n",
    "    snap=s -> Dates.hour(s.calendar.time') == 12,\n",
    ")\n",
    "# @test r.leaves_initiated[end] > 0\n",
    "\n",
    "plot_veg = visualize(r, :DAP, [:leaves_appeared, :leaves_real], kind=:line)\n",
    "visualize!(plot_veg, obs_veget_unit, :DAP, [:leaf_count, :internode_count]) |> display # Fig. 3.D\n",
    "plot_rep = visualize(r, :DAP, [:flowers_appeared], kind=:line)\n",
    "visualize!(plot_rep, obs_repro_unit, :DAP, [:flowers_appeared]) |> display\n",
    "plot_rep_f = visualize(r, :DAP, [:fruits_appeared], kind=:line)\n",
    "visualize!(plot_rep_f, obs_repro_unit, :DAP, [:fruits_appeared]) |> display\n",
    "visualize(r, :DAP, :LAI, kind=:line) |> display # Fig. 4.D\n",
    "visualize(r, :DAP, [:leaf_mass, :total_mass, :fruit_mass]) |> display\n",
    "visualize(r, :DAP, [:A_net], kind=:line) |> display\n",
    "# p = visualize(r, :DAP, [:leaves_real], kind=:line)"
   ]
  },
  {
   "cell_type": "code",
   "execution_count": null,
   "metadata": {},
   "outputs": [],
   "source": [
    "evaluate(Garlic.Model, obs_veget_unit; \n",
    "    config = Validate,\n",
    "    index = :DAP => :DAP,\n",
    "    stop=\"calendar.count\",\n",
    "    snap=s -> Dates.hour(s.calendar.time') == 12,\n",
    "    target = :leaf_count => :leaves_real, metric = :ef)"
   ]
  },
  {
   "cell_type": "code",
   "execution_count": null,
   "metadata": {},
   "outputs": [],
   "source": [
    "evaluate(Garlic.Model, obs_repro_unit; \n",
    "    config = Validate,\n",
    "    index = :DAP => :DAP,\n",
    "    stop=\"calendar.count\",\n",
    "    snap=s -> Dates.hour(s.calendar.time') == 12,\n",
    "    target = :flowers_appeared => :flowers_appeared, metric = :ef)\n"
   ]
  },
  {
   "cell_type": "code",
   "execution_count": null,
   "metadata": {},
   "outputs": [],
   "source": [
    "evaluate(Garlic.Model, obs_repro_unit; \n",
    "    config = Validate,\n",
    "    index = :DAP => :DAP,\n",
    "    stop=\"calendar.count\",\n",
    "    snap=s -> Dates.hour(s.calendar.time') == 12,\n",
    "    target = :fruits_appeared => :fruits_appeared, metric = :ef)\n"
   ]
  },
  {
   "cell_type": "code",
   "execution_count": null,
   "metadata": {},
   "outputs": [],
   "source": [
    "# manipulate(Garlic.Model, :DAP, [:leaves_appeared, :leaves_mature, :leaves_dropped, :leaves_detached, :leaves_real];\n",
    "#     config = Cucumber,\n",
    "#     parameters = :Phenology => (;\n",
    "#         optimal_temperature = 10:40,\n",
    "        \n",
    "#     ),\n",
    "#     stop = \"calendar.count\",\n",
    "#     kind = :line,\n",
    "# )"
   ]
  }
 ],
 "metadata": {
  "kernelspec": {
   "display_name": "Julia 1.7.3",
   "language": "julia",
   "name": "julia-1.7"
  },
  "language_info": {
   "file_extension": ".jl",
   "mimetype": "application/julia",
   "name": "julia",
   "version": "1.7.3"
  }
 },
 "nbformat": 4,
 "nbformat_minor": 4
}
